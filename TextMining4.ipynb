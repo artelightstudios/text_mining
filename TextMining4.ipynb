{
 "cells": [
  {
   "cell_type": "markdown",
   "id": "2d856cc1-a151-4b33-b20c-14452f0b50d2",
   "metadata": {},
   "source": [
    "### 카운트 기반의 문서 표현"
   ]
  },
  {
   "cell_type": "code",
   "execution_count": 2,
   "id": "bf7fe3e0-c968-4f0f-ba2e-bdedffcea985",
   "metadata": {},
   "outputs": [
    {
     "name": "stderr",
     "output_type": "stream",
     "text": [
      "[nltk_data] Downloading package movie_reviews to\n",
      "[nltk_data]     C:\\Users\\jupit\\AppData\\Roaming\\nltk_data...\n",
      "[nltk_data]   Package movie_reviews is already up-to-date!\n"
     ]
    },
    {
     "data": {
      "text/plain": [
       "True"
      ]
     },
     "execution_count": 2,
     "metadata": {},
     "output_type": "execute_result"
    }
   ],
   "source": [
    "import nltk\n",
    "nltk.download('movie_reviews')"
   ]
  },
  {
   "cell_type": "code",
   "execution_count": 12,
   "id": "99c1629b-3eff-42ff-8341-8b34ea764964",
   "metadata": {},
   "outputs": [
    {
     "name": "stdout",
     "output_type": "stream",
     "text": [
      "#review count: 2000\n",
      "#samples of file ids: ['neg/cv000_29416.txt', 'neg/cv001_19502.txt', 'neg/cv002_17424.txt', 'neg/cv003_12683.txt', 'neg/cv004_12641.txt', 'neg/cv005_29357.txt', 'neg/cv006_17022.txt', 'neg/cv007_4992.txt', 'neg/cv008_29326.txt', 'neg/cv009_29417.txt']\n",
      "#id of the first review: neg/cv000_29416.txt\n",
      "\n",
      "#first review content:\n",
      " plot : two teen couples go to a church party , drink and then drive . \n",
      "they get into an accident . \n",
      "one of the guys dies , but his girlfriend continues to see him in her life , and has nightmares . \n",
      "w\n",
      "\n",
      "#sentence tokenization result: [['plot', ':', 'two', 'teen', 'couples', 'go', 'to', 'a', 'church', 'party', ',', 'drink', 'and', 'then', 'drive', '.'], ['they', 'get', 'into', 'an', 'accident', '.']]\n",
      "\n",
      "#word tokenization result: ['plot', ':', 'two', 'teen', 'couples', 'go', 'to', 'a', 'church', 'party', ',', 'drink', 'and', 'then', 'drive', '.', 'they', 'get', 'into', 'an']\n"
     ]
    }
   ],
   "source": [
    "from nltk.corpus import movie_reviews\n",
    "\n",
    "print('#review count:', len(movie_reviews.fileids()))    #영화 리뷰 문서의 id를 반환\n",
    "print('#samples of file ids:', movie_reviews.fileids()[:10])    #id를 10개까지만 출력\n",
    "\n",
    "fileid = movie_reviews.fileids()[0]    #첫번째 문서의 id를 반환\n",
    "print('#id of the first review:', fileid)\n",
    "\n",
    "print()\n",
    "#첫번째 문서의 내용을 200자까지만 출력\n",
    "print('#first review content:\\n', movie_reviews.raw(fileid)[:200])\n",
    "\n",
    "print()\n",
    "#첫번째 문서를 sentence tokenize한 결과 중 앞 두 문장\n",
    "print('#sentence tokenization result:', movie_reviews.sents(fileid)[:2])\n",
    "\n",
    "print()\n",
    "#첫번째 문서를 word tokenize한 결과 중 앞 20개 단어\n",
    "print('#word tokenization result:', movie_reviews.words(fileid)[:20])\n"
   ]
  },
  {
   "cell_type": "code",
   "execution_count": null,
   "id": "fbdc8037-680a-4d27-b564-bb50caad8ac2",
   "metadata": {},
   "outputs": [],
   "source": [
    "#위 결과에서 총 2000개의 리뷰 문서가 있다\n",
    "#neg - negative, pos - positive 표현"
   ]
  },
  {
   "cell_type": "markdown",
   "id": "b2a3165c-a473-49f0-879c-20dfc6117ac5",
   "metadata": {},
   "source": [
    "### BOW(Bag of Words)"
   ]
  },
  {
   "cell_type": "code",
   "execution_count": null,
   "id": "34f0291c-1a64-4c87-9c07-f83901277886",
   "metadata": {},
   "outputs": [],
   "source": [
    "#텍스트는 특성 값의 집합(혹은 벡터)으로 변환\n",
    "#카운트 기반의 문서 표현에서는 단어가 특성이 되고, 단어의 빈도가 특성의 값이 된다.\n",
    "#이와 같은 방식을 BOW(Bag of Words)\n",
    "#이렇게 표현하는 이유는 단어들을 가방에 넣으면 순서가 사라기기 때문이다.\n",
    "#이 가방 안의 단어들에 대해 빈도를 계산하면 원문 텍스트로부터 BOW를 거쳐 특성 벡터를 추출할 수 있다\n",
    "#특성 벡터 예제 - and:3, could:2, two:1, roads:1"
   ]
  },
  {
   "cell_type": "code",
   "execution_count": 17,
   "id": "d380ef09-272c-47f9-9eef-7e871d5d6f79",
   "metadata": {},
   "outputs": [
    {
     "name": "stdout",
     "output_type": "stream",
     "text": [
      "['plot', ':', 'two', 'teen', 'couples', 'go', 'to', 'a', 'church', 'party', ',', 'drink', 'and', 'then', 'drive', '.', 'they', 'get', 'into', 'an', 'accident', '.', 'one', 'of', 'the', 'guys', 'dies', ',', 'but', 'his', 'girlfriend', 'continues', 'to', 'see', 'him', 'in', 'her', 'life', ',', 'and', 'has', 'nightmares', '.', 'what', \"'\", 's', 'the', 'deal', '?', 'watch']\n"
     ]
    }
   ],
   "source": [
    "documents = [list(movie_reviews.words(fileid)) for fileid in movie_reviews.fileids()]\n",
    "print(documents[0][:50])    #첫째 문서의 앞 50개 단어를 출력\n"
   ]
  },
  {
   "cell_type": "code",
   "execution_count": 28,
   "id": "9ea351d9-3661-40d1-baf4-c9d74a3100f9",
   "metadata": {},
   "outputs": [
    {
     "name": "stdout",
     "output_type": "stream",
     "text": [
      "[',', 'the', '.', 'a', 'and', 'of', 'to', \"'\", 'is', 'in']\n",
      "count of ',': 77717 , count of 'the': 76529 , count of '.': 65876 , count of 'a': 38106 , count of 'and': 35576 , count of 'of': 34123 , count of 'to': 31937 , count of ''': 30585 , count of 'is': 25195 , count of 'in': 21822 , "
     ]
    }
   ],
   "source": [
    "word_count = {}    #Dictionary 만들기\n",
    "for text in documents:\n",
    "    for word in text:\n",
    "        word_count[word] = word_count.get(word, 0) + 1\n",
    "        \n",
    "sorted_features = sorted(word_count, key = word_count.get, reverse = True)\n",
    "for word in sorted_features[:10]:\n",
    "    print(f\"count of '{word}': {word_count[word]}\", end=' , ')\n",
    "    "
   ]
  },
  {
   "cell_type": "code",
   "execution_count": null,
   "id": "c19cef9e-35e6-426a-8c6f-516cf091e3eb",
   "metadata": {},
   "outputs": [],
   "source": [
    "#word_count.get(word, 0) + 1  --> 해석: 단어 카운트 수 세기. 0는 default value. \n",
    "#만약에 단어가 딕셔너리에 없으면 0으로 카운트\n",
    "#단어가 딕셔너리에 있으면 +1 카운트"
   ]
  },
  {
   "cell_type": "code",
   "execution_count": 108,
   "id": "0771165f-f604-46ba-aa3b-7676678d7f8c",
   "metadata": {},
   "outputs": [],
   "source": [
    "#data 준비, movie_reviews.raw()를 사용해 raw text를 추출\n",
    "reviews = [movie_reviews.raw(fileid) for fileid in movie_reviews.fileids()]"
   ]
  },
  {
   "cell_type": "code",
   "execution_count": 112,
   "id": "a2b298ee-0b47-43fe-8cbf-38c93976dc64",
   "metadata": {},
   "outputs": [
    {
     "name": "stdout",
     "output_type": "stream",
     "text": [
      "CountVectorizer(max_features=1000)\n"
     ]
    }
   ],
   "source": [
    "from sklearn.feature_extraction.text import CountVectorizer\n",
    "\n",
    "#cv = CountVectorizer()    #모든 매개변수에 기본값을 사용하는 경우\n",
    "\n",
    "cv = CountVectorizer(max_features = 1000)    #특성 집합을 지정하지 않고 최대 특성의 수를 지정하는 경우\n",
    "\n",
    "print(cv)   #객체의 인수를 확인"
   ]
  },
  {
   "cell_type": "code",
   "execution_count": 116,
   "id": "02d7079f-f5d0-42bc-9465-746d72c52ef5",
   "metadata": {},
   "outputs": [
    {
     "name": "stdout",
     "output_type": "stream",
     "text": [
      "['10' 'ability' 'able' 'about' 'above' 'absolutely' 'across' 'act'\n",
      " 'acting' 'action' 'actor' 'actors' 'actress' 'actual' 'actually' 'add'\n",
      " 'after' 'again' 'against' 'age']\n"
     ]
    }
   ],
   "source": [
    "reviews_cv = cv.fit_transform(reviews)\n",
    "print(cv.get_feature_names_out()[:20])\n"
   ]
  },
  {
   "cell_type": "code",
   "execution_count": 118,
   "id": "b2c65f1c-e797-4c3d-a91e-50c74b688e9e",
   "metadata": {},
   "outputs": [
    {
     "name": "stdout",
     "output_type": "stream",
     "text": [
      "#type of count vectors: <class 'scipy.sparse._csr.csr_matrix'>\n",
      "#shape of count vectors: (2000, 1000)\n"
     ]
    }
   ],
   "source": [
    "print('#type of count vectors:', type(reviews_cv))\n",
    "print('#shape of count vectors:', reviews_cv.shape)"
   ]
  },
  {
   "cell_type": "code",
   "execution_count": 120,
   "id": "28568906-b839-416d-b62d-284055c40a34",
   "metadata": {},
   "outputs": [
    {
     "name": "stdout",
     "output_type": "stream",
     "text": [
      "  (0, 3)\t2\n",
      "  (0, 0)\t10\n"
     ]
    }
   ],
   "source": [
    "print(reviews_cv[0, :10])"
   ]
  },
  {
   "cell_type": "code",
   "execution_count": 122,
   "id": "a29614dd-6bc6-4b7e-81d9-52da4c3abbbb",
   "metadata": {},
   "outputs": [
    {
     "data": {
      "text/plain": [
       "<2000x1000 sparse matrix of type '<class 'numpy.int64'>'\n",
       "\twith 373712 stored elements in Compressed Sparse Row format>"
      ]
     },
     "execution_count": 122,
     "metadata": {},
     "output_type": "execute_result"
    }
   ],
   "source": [
    "reviews_cv"
   ]
  },
  {
   "cell_type": "code",
   "execution_count": 126,
   "id": "728d0e20-567c-4923-ac9f-8a3af2e5931b",
   "metadata": {},
   "outputs": [
    {
     "name": "stdout",
     "output_type": "stream",
     "text": [
      "[10  0  0  2  0  0  0  0  0  0  0  1  0  0  2  0  2  2  0  0]\n"
     ]
    }
   ],
   "source": [
    "print(reviews_cv.toarray()[0, :20])"
   ]
  },
  {
   "cell_type": "markdown",
   "id": "cb4dbeea-0481-4357-925d-9feed96bac08",
   "metadata": {},
   "source": [
    "### TF-IDF (Term Frequency - Inverse Document Frequency)"
   ]
  },
  {
   "cell_type": "code",
   "execution_count": 134,
   "id": "80f59311-4a0a-43de-8838-5cfa60c946a3",
   "metadata": {},
   "outputs": [
    {
     "name": "stdout",
     "output_type": "stream",
     "text": [
      "#shape of tfidf matrix: (2000, 1000)\n",
      "#20 count score of the first review: [10  0  0  2  0  0  0  0  0  0  0  1  0  0  2  0  2  2  0  0]\n",
      "#20 tfidf score of the first review: [0.36352951 0.         0.         0.02838787 0.         0.\n",
      " 0.         0.         0.         0.         0.         0.02536173\n",
      " 0.         0.         0.04851355 0.         0.03515255 0.05097422\n",
      " 0.         0.        ]\n"
     ]
    }
   ],
   "source": [
    "from sklearn.feature_extraction.text import TfidfTransformer\n",
    "transformer = TfidfTransformer()\n",
    "transformer\n",
    "\n",
    "reviews_tfidf = transformer.fit_transform(reviews_cv)\n",
    "\n",
    "#TF-IDF 행렬의 모양과 카운트 행렬의 모양이 일치하는 것을 확인\n",
    "print('#shape of tfidf matrix:', reviews_tfidf.shape)\n",
    "\n",
    "#첫 리뷰의 카운트 벡터 중 앞 20개 값 출력\n",
    "print('#20 count score of the first review:', reviews_cv[0].toarray()[0][:20])\n",
    "\n",
    "#첫 리뷰의 TF-IDF 벡터 중 앞 20개 값 출력\n",
    "print('#20 tfidf score of the first review:', reviews_tfidf[0].toarray()[0][:20])\n"
   ]
  },
  {
   "cell_type": "code",
   "execution_count": null,
   "id": "9a736e9c-a749-4c4e-9541-d7ba248455d7",
   "metadata": {},
   "outputs": [],
   "source": [
    "#카운트 벡터에서는 빈도가 높을수록 중요한 단어로 취급되는 경향이 있다\n",
    "#그러나, 모든 문서에 다 들어있는 단어는 별로 중요하지 않다\n",
    "#그래서 TF-IDF 사용 - 단어의 빈도를 그 단어가 나타난 문서의 수로 나눈다\n",
    "#이렇게 하면 단어가 나타난 문서의 수가 클수록 TF-IDF 값은 작아진다."
   ]
  },
  {
   "cell_type": "code",
   "execution_count": null,
   "id": "a38434f4-752e-441a-9106-fd8d29758739",
   "metadata": {},
   "outputs": [],
   "source": []
  }
 ],
 "metadata": {
  "kernelspec": {
   "display_name": "Python 3 (ipykernel)",
   "language": "python",
   "name": "python3"
  },
  "language_info": {
   "codemirror_mode": {
    "name": "ipython",
    "version": 3
   },
   "file_extension": ".py",
   "mimetype": "text/x-python",
   "name": "python",
   "nbconvert_exporter": "python",
   "pygments_lexer": "ipython3",
   "version": "3.12.4"
  }
 },
 "nbformat": 4,
 "nbformat_minor": 5
}
